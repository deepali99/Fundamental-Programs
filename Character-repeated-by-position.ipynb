{
 "cells": [
  {
   "cell_type": "markdown",
   "metadata": {},
   "source": [
    "Write a  program to take input your name and output being every character repeated by the\n",
    "number of its position (Example: If the name is “Aman” output will be “A mm aaa nnnn”"
   ]
  },
  {
   "cell_type": "code",
   "execution_count": null,
   "metadata": {},
   "outputs": [],
   "source": [
    "input_string = input(\"Enter your name:\") # Gives a prompt to enter the name\n",
    "#Lets convert the string to characters\n",
    "char =list(input_string)\n",
    "# \n",
    "length = len(input_string)\n",
    "print(length)\n",
    "\n",
    "output = list()\n",
    "print(output)\n",
    "for i in range(length):\n",
    "    output.append(char[i]*(i+1))\n",
    "    \n",
    "print(output)"
   ]
  }
 ],
 "metadata": {
  "kernelspec": {
   "display_name": "Python 3",
   "language": "python",
   "name": "python3"
  },
  "language_info": {
   "codemirror_mode": {
    "name": "ipython",
    "version": 3
   },
   "file_extension": ".py",
   "mimetype": "text/x-python",
   "name": "python",
   "nbconvert_exporter": "python",
   "pygments_lexer": "ipython3",
   "version": "3.6.4"
  }
 },
 "nbformat": 4,
 "nbformat_minor": 2
}
